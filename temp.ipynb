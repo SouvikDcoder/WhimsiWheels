{
 "cells": [
  {
   "cell_type": "code",
   "execution_count": 1,
   "metadata": {},
   "outputs": [
    {
     "name": "stdout",
     "output_type": "stream",
     "text": [
      "The Zen of Python, by Tim Peters\n",
      "\n",
      "Beautiful is better than ugly.\n",
      "Explicit is better than implicit.\n",
      "Simple is better than complex.\n",
      "Complex is better than complicated.\n",
      "Flat is better than nested.\n",
      "Sparse is better than dense.\n",
      "Readability counts.\n",
      "Special cases aren't special enough to break the rules.\n",
      "Although practicality beats purity.\n",
      "Errors should never pass silently.\n",
      "Unless explicitly silenced.\n",
      "In the face of ambiguity, refuse the temptation to guess.\n",
      "There should be one-- and preferably only one --obvious way to do it.\n",
      "Although that way may not be obvious at first unless you're Dutch.\n",
      "Now is better than never.\n",
      "Although never is often better than *right* now.\n",
      "If the implementation is hard to explain, it's a bad idea.\n",
      "If the implementation is easy to explain, it may be a good idea.\n",
      "Namespaces are one honking great idea -- let's do more of those!\n"
     ]
    }
   ],
   "source": [
    "import this"
   ]
  },
  {
   "cell_type": "code",
   "execution_count": 3,
   "metadata": {},
   "outputs": [
    {
     "name": "stdout",
     "output_type": "stream",
     "text": [
      "True\n"
     ]
    }
   ],
   "source": [
    "a = 1 < 2 == 2 > 1 in [1,2,3] < [2,3,4,5] != 1\n",
    "print(a)"
   ]
  },
  {
   "cell_type": "code",
   "execution_count": 4,
   "metadata": {},
   "outputs": [
    {
     "name": "stdout",
     "output_type": "stream",
     "text": [
      "<class 'float'>\n"
     ]
    }
   ],
   "source": [
    "a = 10.0//5\n",
    "print(type(a))"
   ]
  },
  {
   "cell_type": "code",
   "execution_count": 10,
   "metadata": {},
   "outputs": [
    {
     "name": "stdout",
     "output_type": "stream",
     "text": [
      "['india', 'is', 'great']\n"
     ]
    }
   ],
   "source": [
    "s = 'india,is,great'\n",
    "t = s.split(',')\n",
    "print(t)"
   ]
  },
  {
   "cell_type": "code",
   "execution_count": 11,
   "metadata": {},
   "outputs": [
    {
     "name": "stdout",
     "output_type": "stream",
     "text": [
      "DBCDB\n"
     ]
    }
   ],
   "source": [
    "print(\"ABCAB\".replace(\"A\", \"D\"))"
   ]
  },
  {
   "cell_type": "code",
   "execution_count": 12,
   "metadata": {},
   "outputs": [
    {
     "ename": "TypeError",
     "evalue": "'<' not supported between instances of 'dict' and 'dict'",
     "output_type": "error",
     "traceback": [
      "\u001b[1;31m---------------------------------------------------------------------------\u001b[0m",
      "\u001b[1;31mTypeError\u001b[0m                                 Traceback (most recent call last)",
      "\u001b[1;32mc:\\Users\\souvik.dey\\Desktop\\AutomationCode\\GitHub\\WhimsiWheels\\temp.ipynb Cell 6\u001b[0m in \u001b[0;36m3\n\u001b[0;32m      <a href='vscode-notebook-cell:/c%3A/Users/souvik.dey/Desktop/AutomationCode/GitHub/WhimsiWheels/temp.ipynb#W5sZmlsZQ%3D%3D?line=0'>1</a>\u001b[0m \u001b[39m# a == ? (Python 3)\u001b[39;00m\n\u001b[1;32m----> <a href='vscode-notebook-cell:/c%3A/Users/souvik.dey/Desktop/AutomationCode/GitHub/WhimsiWheels/temp.ipynb#W5sZmlsZQ%3D%3D?line=2'>3</a>\u001b[0m a \u001b[39m=\u001b[39m {\u001b[39m1\u001b[39;49m:\u001b[39m2\u001b[39;49m,\u001b[39m2\u001b[39;49m:\u001b[39m3\u001b[39;49m,\u001b[39m3\u001b[39;49m:\u001b[39m4\u001b[39;49m}\u001b[39m<\u001b[39;49m{\u001b[39m2\u001b[39;49m:\u001b[39m5\u001b[39;49m,\u001b[39m3\u001b[39;49m:\u001b[39m6\u001b[39;49m,\u001b[39m4\u001b[39;49m:\u001b[39m7\u001b[39;49m,\u001b[39m5\u001b[39;49m:\u001b[39m8\u001b[39;49m}\n",
      "\u001b[1;31mTypeError\u001b[0m: '<' not supported between instances of 'dict' and 'dict'"
     ]
    }
   ],
   "source": [
    "# a == ? (Python 3)\n",
    "\n",
    "a = {1:2,2:3,3:4}<{2:5,3:6,4:7,5:8}"
   ]
  },
  {
   "cell_type": "code",
   "execution_count": 13,
   "metadata": {},
   "outputs": [
    {
     "ename": "TypeError",
     "evalue": "'set' object is not subscriptable",
     "output_type": "error",
     "traceback": [
      "\u001b[1;31m---------------------------------------------------------------------------\u001b[0m",
      "\u001b[1;31mTypeError\u001b[0m                                 Traceback (most recent call last)",
      "\u001b[1;32mc:\\Users\\souvik.dey\\Desktop\\AutomationCode\\GitHub\\WhimsiWheels\\temp.ipynb Cell 7\u001b[0m in \u001b[0;36m2\n\u001b[0;32m      <a href='vscode-notebook-cell:/c%3A/Users/souvik.dey/Desktop/AutomationCode/GitHub/WhimsiWheels/temp.ipynb#W6sZmlsZQ%3D%3D?line=0'>1</a>\u001b[0m d \u001b[39m=\u001b[39m {\u001b[39m'\u001b[39m\u001b[39musername\u001b[39m\u001b[39m'\u001b[39m, \u001b[39m'\u001b[39m\u001b[39mcarl\u001b[39m\u001b[39m'\u001b[39m, \u001b[39m'\u001b[39m\u001b[39mpassword\u001b[39m\u001b[39m'\u001b[39m, \u001b[39m'\u001b[39m\u001b[39mhunter2\u001b[39m\u001b[39m'\u001b[39m}\n\u001b[1;32m----> <a href='vscode-notebook-cell:/c%3A/Users/souvik.dey/Desktop/AutomationCode/GitHub/WhimsiWheels/temp.ipynb#W6sZmlsZQ%3D%3D?line=1'>2</a>\u001b[0m \u001b[39mprint\u001b[39m(d[\u001b[39m'\u001b[39;49m\u001b[39mpassword\u001b[39;49m\u001b[39m'\u001b[39;49m])\n",
      "\u001b[1;31mTypeError\u001b[0m: 'set' object is not subscriptable"
     ]
    }
   ],
   "source": [
    "d = {'username', 'carl', 'password', 'hunter2'}\n",
    "print(d['password'])"
   ]
  },
  {
   "cell_type": "code",
   "execution_count": 14,
   "metadata": {},
   "outputs": [
    {
     "name": "stdout",
     "output_type": "stream",
     "text": [
      "<class 'generator'>\n"
     ]
    }
   ],
   "source": [
    "a = (b for b in [1,2])\n",
    "print(type(a))"
   ]
  },
  {
   "cell_type": "code",
   "execution_count": 15,
   "metadata": {},
   "outputs": [
    {
     "name": "stdout",
     "output_type": "stream",
     "text": [
      "{0: 10, 1: 11, 2: 12, 3: 13, 4: 14, 5: 15, 6: 16, 7: 17, 8: 18, 9: 19}\n"
     ]
    }
   ],
   "source": [
    "a = { b : b+10 for b in range(10) }\n",
    "print(a)"
   ]
  },
  {
   "cell_type": "code",
   "execution_count": 16,
   "metadata": {},
   "outputs": [
    {
     "ename": "SyntaxError",
     "evalue": "invalid syntax (2665511206.py, line 1)",
     "output_type": "error",
     "traceback": [
      "\u001b[1;36m  Cell \u001b[1;32mIn [16], line 1\u001b[1;36m\u001b[0m\n\u001b[1;33m    a = { i,j for i in range(0,10,2) for j in range(1,10,2)}\u001b[0m\n\u001b[1;37m              ^\u001b[0m\n\u001b[1;31mSyntaxError\u001b[0m\u001b[1;31m:\u001b[0m invalid syntax\n"
     ]
    }
   ],
   "source": [
    "a = { i,j for i in range(0,10,2) for j in range(1,10,2)}"
   ]
  },
  {
   "cell_type": "code",
   "execution_count": 3,
   "metadata": {},
   "outputs": [
    {
     "name": "stdout",
     "output_type": "stream",
     "text": [
      "Requirement already satisfied: rembg in c:\\users\\souvik.dey\\appdata\\local\\programs\\python\\python38\\lib\\site-packages (2.0.32)Note: you may need to restart the kernel to use updated packages.\n"
     ]
    },
    {
     "name": "stderr",
     "output_type": "stream",
     "text": [
      "ERROR: Could not find a version that satisfies the requirement rembg-bg (from versions: none)\n",
      "ERROR: No matching distribution found for rembg-bg\n"
     ]
    },
    {
     "name": "stdout",
     "output_type": "stream",
     "text": [
      "\n"
     ]
    }
   ],
   "source": [
    "%pip install rembg rembg-bg\n",
    "\n"
   ]
  },
  {
   "cell_type": "code",
   "execution_count": 1,
   "metadata": {},
   "outputs": [],
   "source": [
    "# khcWYHJFH2uykaHaYWc95BX5\n",
    "\n",
    "from rembg import remove\n",
    "from PIL import Image\n",
    "import requests\n",
    "from io import BytesIO\n",
    "\n",
    "# API key from remove.bg\n",
    "# api_key = \"khcWYHJFH2uykaHaYWc95BX5\"\n",
    "\n",
    "# Input image URL\n",
    "input_image_url = \"https://i.ibb.co/WznMRw2/273837737-5763755276984338-8936975521965862936-n.jpg\"\n",
    "\n",
    "# Output image file\n",
    "output_image_file = \"self_1.png\"\n",
    "\n",
    "# Load the input image from URL\n",
    "response = requests.get(input_image_url)\n",
    "input_image = Image.open(BytesIO(response.content))\n",
    "\n",
    "# Remove the background\n",
    "output_image = remove(input_image)\n",
    "\n",
    "# Save the output image\n",
    "output_image.save(output_image_file)\n"
   ]
  },
  {
   "cell_type": "code",
   "execution_count": 1,
   "metadata": {},
   "outputs": [
    {
     "name": "stdout",
     "output_type": "stream",
     "text": [
      "Collecting axe-selenium-python\n",
      "  Downloading axe_selenium_python-2.1.6-py2.py3-none-any.whl (86 kB)\n",
      "     -------------------------------------- 86.9/86.9 kB 696.7 kB/s eta 0:00:00\n",
      "Collecting selenium>=3.0.2\n",
      "  Downloading selenium-4.8.3-py3-none-any.whl (6.5 MB)\n",
      "     ---------------------------------------- 6.5/6.5 MB 4.5 MB/s eta 0:00:00\n",
      "Collecting pytest>=3.0\n",
      "  Downloading pytest-7.3.1-py3-none-any.whl (320 kB)\n",
      "     -------------------------------------- 320.5/320.5 kB 6.6 MB/s eta 0:00:00\n",
      "Collecting exceptiongroup>=1.0.0rc8\n",
      "  Downloading exceptiongroup-1.1.1-py3-none-any.whl (14 kB)\n",
      "Requirement already satisfied: colorama in c:\\users\\souvik.dey\\appdata\\local\\programs\\python\\python38\\lib\\site-packages (from pytest>=3.0->axe-selenium-python) (0.4.6)\n",
      "Collecting iniconfig\n",
      "  Downloading iniconfig-2.0.0-py3-none-any.whl (5.9 kB)\n",
      "Collecting pluggy<2.0,>=0.12\n",
      "  Downloading pluggy-1.0.0-py2.py3-none-any.whl (13 kB)\n",
      "Requirement already satisfied: packaging in c:\\users\\souvik.dey\\appdata\\roaming\\python\\python38\\site-packages (from pytest>=3.0->axe-selenium-python) (21.3)\n",
      "Collecting tomli>=1.0.0\n",
      "  Downloading tomli-2.0.1-py3-none-any.whl (12 kB)\n",
      "Requirement already satisfied: certifi>=2021.10.8 in c:\\users\\souvik.dey\\appdata\\local\\programs\\python\\python38\\lib\\site-packages (from selenium>=3.0.2->axe-selenium-python) (2022.12.7)\n",
      "Requirement already satisfied: urllib3[socks]~=1.26 in c:\\users\\souvik.dey\\appdata\\local\\programs\\python\\python38\\lib\\site-packages (from selenium>=3.0.2->axe-selenium-python) (1.26.14)\n",
      "Collecting trio~=0.17\n",
      "  Downloading trio-0.22.0-py3-none-any.whl (384 kB)\n",
      "     -------------------------------------- 384.9/384.9 kB 3.4 MB/s eta 0:00:00\n",
      "Collecting trio-websocket~=0.9\n",
      "  Downloading trio_websocket-0.10.2-py3-none-any.whl (17 kB)\n",
      "Collecting async-generator>=1.9\n",
      "  Downloading async_generator-1.10-py3-none-any.whl (18 kB)\n",
      "Requirement already satisfied: cffi>=1.14 in c:\\users\\souvik.dey\\appdata\\local\\programs\\python\\python38\\lib\\site-packages (from trio~=0.17->selenium>=3.0.2->axe-selenium-python) (1.15.1)\n",
      "Requirement already satisfied: idna in c:\\users\\souvik.dey\\appdata\\local\\programs\\python\\python38\\lib\\site-packages (from trio~=0.17->selenium>=3.0.2->axe-selenium-python) (3.4)\n",
      "Collecting sortedcontainers\n",
      "  Downloading sortedcontainers-2.4.0-py2.py3-none-any.whl (29 kB)\n",
      "Requirement already satisfied: attrs>=19.2.0 in c:\\users\\souvik.dey\\appdata\\local\\programs\\python\\python38\\lib\\site-packages (from trio~=0.17->selenium>=3.0.2->axe-selenium-python) (22.2.0)\n",
      "Collecting outcome\n",
      "  Downloading outcome-1.2.0-py2.py3-none-any.whl (9.7 kB)\n",
      "Requirement already satisfied: sniffio in c:\\users\\souvik.dey\\appdata\\local\\programs\\python\\python38\\lib\\site-packages (from trio~=0.17->selenium>=3.0.2->axe-selenium-python) (1.3.0)\n",
      "Collecting wsproto>=0.14\n",
      "  Downloading wsproto-1.2.0-py3-none-any.whl (24 kB)\n",
      "Collecting PySocks!=1.5.7,<2.0,>=1.5.6\n",
      "  Downloading PySocks-1.7.1-py3-none-any.whl (16 kB)\n",
      "Requirement already satisfied: pyparsing!=3.0.5,>=2.0.2 in c:\\users\\souvik.dey\\appdata\\roaming\\python\\python38\\site-packages (from packaging->pytest>=3.0->axe-selenium-python) (3.0.9)\n",
      "Requirement already satisfied: pycparser in c:\\users\\souvik.dey\\appdata\\local\\programs\\python\\python38\\lib\\site-packages (from cffi>=1.14->trio~=0.17->selenium>=3.0.2->axe-selenium-python) (2.21)\n",
      "Requirement already satisfied: h11<1,>=0.9.0 in c:\\users\\souvik.dey\\appdata\\local\\programs\\python\\python38\\lib\\site-packages (from wsproto>=0.14->trio-websocket~=0.9->selenium>=3.0.2->axe-selenium-python) (0.14.0)\n",
      "Installing collected packages: sortedcontainers, wsproto, tomli, PySocks, pluggy, outcome, iniconfig, exceptiongroup, async-generator, trio, pytest, trio-websocket, selenium, axe-selenium-python\n",
      "Successfully installed PySocks-1.7.1 async-generator-1.10 axe-selenium-python-2.1.6 exceptiongroup-1.1.1 iniconfig-2.0.0 outcome-1.2.0 pluggy-1.0.0 pytest-7.3.1 selenium-4.8.3 sortedcontainers-2.4.0 tomli-2.0.1 trio-0.22.0 trio-websocket-0.10.2 wsproto-1.2.0\n",
      "Note: you may need to restart the kernel to use updated packages.\n"
     ]
    },
    {
     "name": "stderr",
     "output_type": "stream",
     "text": [
      "  WARNING: The scripts py.test.exe and pytest.exe are installed in 'c:\\Users\\souvik.dey\\AppData\\Local\\Programs\\Python\\Python38\\Scripts' which is not on PATH.\n",
      "  Consider adding this directory to PATH or, if you prefer to suppress this warning, use --no-warn-script-location.\n"
     ]
    }
   ],
   "source": [
    "%pip install axe-selenium-python"
   ]
  },
  {
   "cell_type": "code",
   "execution_count": 2,
   "metadata": {},
   "outputs": [
    {
     "ename": "KeyError",
     "evalue": "'siteid'",
     "output_type": "error",
     "traceback": [
      "\u001b[1;31m---------------------------------------------------------------------------\u001b[0m",
      "\u001b[1;31mKeyError\u001b[0m                                  Traceback (most recent call last)",
      "\u001b[1;32mc:\\Users\\souvik.dey\\Desktop\\AutomationCode\\GitHub\\WhimsiWheels\\temp.ipynb Cell 14\u001b[0m in \u001b[0;36m7\n\u001b[0;32m      <a href='vscode-notebook-cell:/c%3A/Users/souvik.dey/Desktop/AutomationCode/GitHub/WhimsiWheels/temp.ipynb#X16sZmlsZQ%3D%3D?line=3'>4</a>\u001b[0m rp_list_folder_path \u001b[39m=\u001b[39m \u001b[39m'\u001b[39m\u001b[39m/vfsvfsd/vdfvfd/vdfvfd\u001b[39m\u001b[39m'\u001b[39m\n\u001b[0;32m      <a href='vscode-notebook-cell:/c%3A/Users/souvik.dey/Desktop/AutomationCode/GitHub/WhimsiWheels/temp.ipynb#X16sZmlsZQ%3D%3D?line=4'>5</a>\u001b[0m minor_type \u001b[39m=\u001b[39m \u001b[39m'\u001b[39m\u001b[39m3\u001b[39m\u001b[39m'\u001b[39m\n\u001b[1;32m----> <a href='vscode-notebook-cell:/c%3A/Users/souvik.dey/Desktop/AutomationCode/GitHub/WhimsiWheels/temp.ipynb#X16sZmlsZQ%3D%3D?line=6'>7</a>\u001b[0m var \u001b[39m=\u001b[39m temp\u001b[39m.\u001b[39;49mformat(site_id\u001b[39m=\u001b[39;49m\u001b[39mstr\u001b[39;49m(site_id),sid\u001b[39m=\u001b[39;49m\u001b[39mstr\u001b[39;49m(storage_id),path\u001b[39m=\u001b[39;49mrp_list_folder_path,minor_type\u001b[39m=\u001b[39;49mminor_type)\n\u001b[0;32m      <a href='vscode-notebook-cell:/c%3A/Users/souvik.dey/Desktop/AutomationCode/GitHub/WhimsiWheels/temp.ipynb#X16sZmlsZQ%3D%3D?line=7'>8</a>\u001b[0m \u001b[39mprint\u001b[39m(var)\n",
      "\u001b[1;31mKeyError\u001b[0m: 'siteid'"
     ]
    }
   ],
   "source": [
    "temp = '/v1/list_folder?siteid={siteid}&sid={sid}&path={path}&minor_type={minor_type}'\n",
    "site_id = 123\n",
    "storage_id = 345\n",
    "rp_list_folder_path = '/vfsvfsd/vdfvfd/vdfvfd'\n",
    "minor_type = '3'\n",
    "\n",
    "var = temp.format(site_id=str(site_id),sid=str(storage_id),path=rp_list_folder_path,minor_type=minor_type)\n",
    "print(var)"
   ]
  },
  {
   "cell_type": "code",
   "execution_count": 1,
   "metadata": {},
   "outputs": [
    {
     "name": "stdout",
     "output_type": "stream",
     "text": [
      "[{'id': 1, 'time': 5, 'dependencies': []}, {'id': 2, 'time': 3, 'dependencies': [1]}, {'id': 3, 'time': 7, 'dependencies': [1]}, {'id': 4, 'time': 2, 'dependencies': [2, 3]}, {'id': 5, 'time': 4, 'dependencies': [3]}, {'id': 6, 'time': 6, 'dependencies': [4, 5]}]\n"
     ]
    }
   ],
   "source": [
    "test_cases = [\n",
    "    {\"id\": 1, \"time\": 5, \"dependencies\": []},\n",
    "    {\"id\": 2, \"time\": 3, \"dependencies\": [1]},\n",
    "    {\"id\": 3, \"time\": 7, \"dependencies\": [1]},\n",
    "    {\"id\": 4, \"time\": 2, \"dependencies\": [2, 3]},\n",
    "    {\"id\": 5, \"time\": 4, \"dependencies\": [3]},\n",
    "    {\"id\": 6, \"time\": 6, \"dependencies\": [4, 5]}\n",
    "]\n",
    "\n",
    "print(test_cases)"
   ]
  },
  {
   "cell_type": "code",
   "execution_count": 4,
   "metadata": {},
   "outputs": [],
   "source": [
    "def get_dependencies(test_case, test_cases):\n",
    "    dependencies = []\n",
    "    for dep_id in test_case[\"dependencies\"]:\n",
    "        dep_test_case = [t for t in test_cases if t[\"id\"] == dep_id][0]\n",
    "        dependencies.extend(get_dependencies(dep_test_case, test_cases))\n",
    "        dependencies.append(dep_test_case)\n",
    "    return dependencies\n",
    "\n",
    "def greedy_execution_order(test_cases):\n",
    "    executed_cases = set()\n",
    "    execution_order = []\n",
    "\n",
    "    while len(executed_cases) < len(test_cases):\n",
    "        for test_case in sorted(test_cases, key=lambda x: x[\"time\"]):\n",
    "            if test_case[\"id\"] not in executed_cases:\n",
    "                dependencies = get_dependencies(test_case, test_cases)\n",
    "                print(dependencies)\n",
    "                if all(dep[\"id\"] in executed_cases for dep in dependencies):\n",
    "                    execution_order.append(test_case)\n",
    "                    executed_cases.add(test_case[\"id\"])\n",
    "                    break\n",
    "\n",
    "    return execution_order\n"
   ]
  },
  {
   "cell_type": "code",
   "execution_count": 5,
   "metadata": {},
   "outputs": [
    {
     "name": "stdout",
     "output_type": "stream",
     "text": [
      "[{'id': 1, 'time': 5, 'dependencies': []}, {'id': 2, 'time': 3, 'dependencies': [1]}, {'id': 1, 'time': 5, 'dependencies': []}, {'id': 3, 'time': 7, 'dependencies': [1]}]\n",
      "[{'id': 1, 'time': 5, 'dependencies': []}]\n",
      "[{'id': 1, 'time': 5, 'dependencies': []}, {'id': 3, 'time': 7, 'dependencies': [1]}]\n",
      "[]\n",
      "[{'id': 1, 'time': 5, 'dependencies': []}, {'id': 2, 'time': 3, 'dependencies': [1]}, {'id': 1, 'time': 5, 'dependencies': []}, {'id': 3, 'time': 7, 'dependencies': [1]}]\n",
      "[{'id': 1, 'time': 5, 'dependencies': []}]\n",
      "[{'id': 1, 'time': 5, 'dependencies': []}, {'id': 2, 'time': 3, 'dependencies': [1]}, {'id': 1, 'time': 5, 'dependencies': []}, {'id': 3, 'time': 7, 'dependencies': [1]}]\n",
      "[{'id': 1, 'time': 5, 'dependencies': []}, {'id': 3, 'time': 7, 'dependencies': [1]}]\n",
      "[{'id': 1, 'time': 5, 'dependencies': []}, {'id': 2, 'time': 3, 'dependencies': [1]}, {'id': 1, 'time': 5, 'dependencies': []}, {'id': 3, 'time': 7, 'dependencies': [1]}, {'id': 4, 'time': 2, 'dependencies': [2, 3]}, {'id': 1, 'time': 5, 'dependencies': []}, {'id': 3, 'time': 7, 'dependencies': [1]}, {'id': 5, 'time': 4, 'dependencies': [3]}]\n",
      "[{'id': 1, 'time': 5, 'dependencies': []}]\n",
      "[{'id': 1, 'time': 5, 'dependencies': []}, {'id': 2, 'time': 3, 'dependencies': [1]}, {'id': 1, 'time': 5, 'dependencies': []}, {'id': 3, 'time': 7, 'dependencies': [1]}]\n",
      "[{'id': 1, 'time': 5, 'dependencies': []}, {'id': 3, 'time': 7, 'dependencies': [1]}]\n",
      "[{'id': 1, 'time': 5, 'dependencies': []}, {'id': 2, 'time': 3, 'dependencies': [1]}, {'id': 1, 'time': 5, 'dependencies': []}, {'id': 3, 'time': 7, 'dependencies': [1]}, {'id': 4, 'time': 2, 'dependencies': [2, 3]}, {'id': 1, 'time': 5, 'dependencies': []}, {'id': 3, 'time': 7, 'dependencies': [1]}, {'id': 5, 'time': 4, 'dependencies': [3]}]\n",
      "Test Case ID: 1, Time: 5\n",
      "Test Case ID: 2, Time: 3\n",
      "Test Case ID: 3, Time: 7\n",
      "Test Case ID: 4, Time: 2\n",
      "Test Case ID: 5, Time: 4\n",
      "Test Case ID: 6, Time: 6\n"
     ]
    }
   ],
   "source": [
    "optimized_order = greedy_execution_order(test_cases)\n",
    "for test_case in optimized_order:\n",
    "    print(f\"Test Case ID: {test_case['id']}, Time: {test_case['time']}\")\n"
   ]
  },
  {
   "cell_type": "code",
   "execution_count": 49,
   "metadata": {},
   "outputs": [],
   "source": [
    "# Given a list of integers, write a function to find the two integers that have the smallest difference. Return their indices in the original list.\n",
    "import itertools\n",
    "\n",
    "\n",
    "def find_min_difference_indices(numbers):\n",
    "    combi_vals = list(itertools.product(numbers,repeat=2))\n",
    "    print(combi_vals, len(combi_vals))\n",
    "    diff_list = []\n",
    "    for t in combi_vals:\n",
    "        diff = t[1] - t[0]\n",
    "        diff_list.append(diff)\n",
    "    #print(diff_list)\n",
    "    minimum_non_negative = min(filter(lambda x: x > 0, diff_list), default=-1)\n",
    "    print(minimum_non_negative)\n",
    "    print(numbers.index(combi_vals[diff_list.index(minimum_non_negative)][0]))\n",
    "    print(numbers.index(combi_vals[diff_list.index(minimum_non_negative)][1]))\n",
    "    return (numbers.index(combi_vals[diff_list.index(minimum_non_negative)][0]), numbers.index(combi_vals[diff_list.index(minimum_non_negative)][1]))\n"
   ]
  },
  {
   "cell_type": "code",
   "execution_count": 23,
   "metadata": {},
   "outputs": [],
   "source": [
    "numbers = [23, 45, 67, 89, 12, 34, 56, 78, 90, 6]\n",
    "\n",
    "def test_find_min_difference_indices():\n",
    "    assert find_min_difference_indices(numbers) == (4, 5) # 12 and 34 have the smallest difference (22)\n",
    "    assert find_min_difference_indices([10, 20, 30, 40, 50]) == (0, 1)\n",
    "    assert find_min_difference_indices([1, 3, 7, 15, 20, 50]) == (1, 2)\n",
    "    assert find_min_difference_indices([1]) == None"
   ]
  },
  {
   "cell_type": "code",
   "execution_count": 50,
   "metadata": {},
   "outputs": [
    {
     "name": "stdout",
     "output_type": "stream",
     "text": [
      "[(23, 23), (23, 45), (23, 67), (23, 89), (23, 12), (23, 34), (23, 56), (23, 78), (23, 90), (23, 6), (45, 23), (45, 45), (45, 67), (45, 89), (45, 12), (45, 34), (45, 56), (45, 78), (45, 90), (45, 6), (67, 23), (67, 45), (67, 67), (67, 89), (67, 12), (67, 34), (67, 56), (67, 78), (67, 90), (67, 6), (89, 23), (89, 45), (89, 67), (89, 89), (89, 12), (89, 34), (89, 56), (89, 78), (89, 90), (89, 6), (12, 23), (12, 45), (12, 67), (12, 89), (12, 12), (12, 34), (12, 56), (12, 78), (12, 90), (12, 6), (34, 23), (34, 45), (34, 67), (34, 89), (34, 12), (34, 34), (34, 56), (34, 78), (34, 90), (34, 6), (56, 23), (56, 45), (56, 67), (56, 89), (56, 12), (56, 34), (56, 56), (56, 78), (56, 90), (56, 6), (78, 23), (78, 45), (78, 67), (78, 89), (78, 12), (78, 34), (78, 56), (78, 78), (78, 90), (78, 6), (90, 23), (90, 45), (90, 67), (90, 89), (90, 12), (90, 34), (90, 56), (90, 78), (90, 90), (90, 6), (6, 23), (6, 45), (6, 67), (6, 89), (6, 12), (6, 34), (6, 56), (6, 78), (6, 90), (6, 6)] 100\n",
      "1\n",
      "3\n",
      "8\n",
      "(3, 8)\n"
     ]
    }
   ],
   "source": [
    "val = find_min_difference_indices(numbers)\n",
    "print(val)"
   ]
  },
  {
   "cell_type": "code",
   "execution_count": 51,
   "metadata": {},
   "outputs": [
    {
     "name": "stdout",
     "output_type": "stream",
     "text": [
      "[(23, 0), (45, 1), (67, 2), (89, 3), (12, 4), (34, 5), (56, 6), (78, 7), (90, 8), (6, 9)]\n",
      "[(6, 9), (12, 4), (23, 0), (34, 5), (45, 1), (56, 6), (67, 2), (78, 7), (89, 3), (90, 8)]\n",
      "6 (12, 4) (6, 9)\n",
      "11 (23, 0) (12, 4)\n",
      "11 (34, 5) (23, 0)\n",
      "11 (45, 1) (34, 5)\n",
      "11 (56, 6) (45, 1)\n",
      "11 (67, 2) (56, 6)\n",
      "11 (78, 7) (67, 2)\n",
      "11 (89, 3) (78, 7)\n",
      "1 (90, 8) (89, 3)\n",
      "(3, 8)\n"
     ]
    }
   ],
   "source": [
    "def smallest_diff_checker(nums):\n",
    "    indexed_nums = [(num, i) for i, num in enumerate(nums)]\n",
    "    print(indexed_nums)\n",
    "    indexed_nums.sort()\n",
    "    print(indexed_nums)\n",
    "   \n",
    "    min_diff = float('inf')\n",
    "    min_diff_indices = (0, 0)\n",
    "\n",
    "    for i in range(1, len(indexed_nums)):\n",
    "        diff = indexed_nums[i][0] - indexed_nums[i-1][0]\n",
    "        print(diff, indexed_nums[i], indexed_nums[i-1])\n",
    "        if diff < min_diff:\n",
    "            min_diff_indices = (indexed_nums[i - 1][1], indexed_nums[i][1])\n",
    "\n",
    "    return min_diff_indices\n",
    "\n",
    "numbers = [23, 45, 67, 89, 12, 34, 56, 78, 90, 6]\n",
    "diff_index = smallest_diff_checker(numbers)\n",
    "print(diff_index)\n"
   ]
  },
  {
   "cell_type": "code",
   "execution_count": 54,
   "metadata": {},
   "outputs": [
    {
     "name": "stdout",
     "output_type": "stream",
     "text": [
      "0\n",
      "1\n",
      "2\n",
      "3\n",
      "4\n"
     ]
    }
   ],
   "source": [
    "# Write a function to merge two sorted lists into one sorted list.\n",
    "list1 = [1, 3, 5, 7, 9]\n",
    "list2 = [2, 4, 6, 8, 10,15, 21, 89]\n",
    "\n",
    "smaller_list_name = lambda x, y: 'list1' if len(x) < len(y) else 'list2'\n",
    "\n",
    "sorted_merged_list = []\n",
    "\n",
    "for i in range(len(smaller_list_name(list1, list2))):\n",
    "    if \n"
   ]
  },
  {
   "cell_type": "code",
   "execution_count": 1,
   "metadata": {},
   "outputs": [],
   "source": [
    "def merge_lists_enhanced(list1, list2):\n",
    "    i, j = 0, 0\n",
    "\n",
    "    while i < len(list1) and j < len(list2):\n",
    "        if list1[i] > list2[j]:\n",
    "            list1.insert(i, list2[j])\n",
    "            i += 1\n",
    "            j += 1\n",
    "        else:\n",
    "            i += 1\n",
    "\n",
    "    if j < len(list2):\n",
    "        list1.extend(list2[j:])\n",
    "\n",
    "    return list1\n"
   ]
  },
  {
   "cell_type": "code",
   "execution_count": 2,
   "metadata": {},
   "outputs": [
    {
     "name": "stdout",
     "output_type": "stream",
     "text": [
      "Enhanced Merged List: [1, 2, 3, 4, 5, 6, 7, 8, 9, 10, 15, 21, 89]\n"
     ]
    }
   ],
   "source": [
    "list1 = [1, 3, 5, 7, 9]\n",
    "list2 = [2, 4, 6, 8, 10,15, 21, 89]\n",
    "\n",
    "merged_enhanced = merge_lists_enhanced(list1, list2)\n",
    "print(\"Enhanced Merged List:\", merged_enhanced)"
   ]
  },
  {
   "cell_type": "code",
   "execution_count": 4,
   "metadata": {},
   "outputs": [],
   "source": [
    "# Implement a function to find the longest subarray in a given list of integers that has a contiguous sequence of positive numbers.\n",
    "\n",
    "numbers = [1, -2, 3, 4, -1, 2, -3, 5, 6, -1, 7]"
   ]
  },
  {
   "cell_type": "code",
   "execution_count": 3,
   "metadata": {},
   "outputs": [],
   "source": [
    "def longest_positive_subarray(arr):\n",
    "    max_length = 0\n",
    "    max_start = max_end = 0\n",
    "\n",
    "    n = len(arr)\n",
    "    i = 0\n",
    "    while i < n:\n",
    "        if arr[i] > 0:\n",
    "            start = i\n",
    "            end = i\n",
    "            while end + 1 < n and arr[end + 1] > 0:\n",
    "                end += 1\n",
    "            \n",
    "            length = end - start + 1\n",
    "            if length > max_length:\n",
    "                max_length = length\n",
    "                max_start = start\n",
    "                max_end = end\n",
    "            i = end\n",
    "        i += 1\n",
    "\n",
    "    return arr[max_start:max_end+1]\n"
   ]
  },
  {
   "cell_type": "code",
   "execution_count": 5,
   "metadata": {},
   "outputs": [
    {
     "name": "stdout",
     "output_type": "stream",
     "text": [
      "[3, 4]\n"
     ]
    }
   ],
   "source": [
    "print(longest_positive_subarray(numbers))"
   ]
  },
  {
   "cell_type": "code",
   "execution_count": 13,
   "metadata": {},
   "outputs": [
    {
     "name": "stdout",
     "output_type": "stream",
     "text": [
      "[1]\n",
      "\n",
      "[3]\n",
      "[3, 4]\n",
      "\n",
      "[2]\n",
      "\n",
      "[5]\n",
      "[5, 6]\n",
      "\n",
      "[7]\n",
      "[5, 6]\n",
      "[1, 2, 1, 2]\n"
     ]
    }
   ],
   "source": [
    "numbers = [1, -2, 3, 4, -1, 2, -3, 5, 6, -1, 7]\n",
    "\n",
    "positive_list  = []\n",
    "\n",
    "temp_list = []\n",
    "\n",
    "for i, val in enumerate(numbers):\n",
    "    if val > 0:\n",
    "        temp_list.append(val)\n",
    "        print(temp_list)\n",
    "    else:\n",
    "        print()\n",
    "        positive_list.append(temp_list)\n",
    "        temp_list = []\n",
    "\n",
    "print(max(positive_list))\n",
    "\n",
    "print(([len(val) for val in positive_list]))\n",
    "\n",
    "\n"
   ]
  },
  {
   "cell_type": "code",
   "execution_count": null,
   "metadata": {},
   "outputs": [],
   "source": [
    "longest_sub_list = lambda temp: "
   ]
  },
  {
   "cell_type": "code",
   "execution_count": 14,
   "metadata": {},
   "outputs": [
    {
     "name": "stdout",
     "output_type": "stream",
     "text": [
      "[2, 4, 4, 3, 2, 1]\n"
     ]
    }
   ],
   "source": [
    "# Write a function to remove duplicates from a list of integers without using any additional data structures.\n",
    "\n",
    "numbers = [1, 2, 3, 4, 4, 3, 2, 1]\n",
    "\n",
    "for i, val in enumerate(numbers):\n",
    "    if val in numbers[i+1:]:\n",
    "        numbers.remove(val)\n",
    "\n",
    "print(numbers)"
   ]
  }
 ],
 "metadata": {
  "kernelspec": {
   "display_name": "Python 3",
   "language": "python",
   "name": "python3"
  },
  "language_info": {
   "codemirror_mode": {
    "name": "ipython",
    "version": 3
   },
   "file_extension": ".py",
   "mimetype": "text/x-python",
   "name": "python",
   "nbconvert_exporter": "python",
   "pygments_lexer": "ipython3",
   "version": "3.8.8"
  },
  "orig_nbformat": 4
 },
 "nbformat": 4,
 "nbformat_minor": 2
}
